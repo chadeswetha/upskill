{
  "cells": [
    {
      "cell_type": "markdown",
      "metadata": {
        "id": "view-in-github",
        "colab_type": "text"
      },
      "source": [
        "<a href=\"https://colab.research.google.com/github/chadeswetha/upskill/blob/main/password.ipynb\" target=\"_parent\"><img src=\"https://colab.research.google.com/assets/colab-badge.svg\" alt=\"Open In Colab\"/></a>"
      ]
    },
    {
      "cell_type": "code",
      "execution_count": null,
      "metadata": {
        "id": "LIBZH1XKvcz9",
        "colab": {
          "base_uri": "https://localhost:8080/"
        },
        "outputId": "c1b5b4c3-52a2-4602-d867-eb2b49402c93"
      },
      "outputs": [
        {
          "output_type": "stream",
          "name": "stdout",
          "text": [
            "\n",
            "Hello, Welcome to Password generator!\n",
            "\n",
            "...MENU...\n",
            "1.To get a strong password\n",
            "2.Exit\n",
            "\n",
            "enter a choice1\n",
            "\n",
            "enter a password length(length should be greater the 6>)12\n",
            "\n",
            "your password is = W/hP!o=v[pqY\n",
            "\n",
            "...MENU...\n",
            "1.To get a strong password\n",
            "2.Exit\n",
            "\n",
            "enter a choice2\n",
            "\n",
            "You came out from the program\n",
            " Thanks for using...\n"
          ]
        }
      ],
      "source": [
        "#importing modules..\n",
        "import random\n",
        "import string\n",
        "\n",
        "#function one for menu..\n",
        "def menu():\n",
        "  print(\"\\n...MENU...\")\n",
        "  print(\"1.To get a strong password\\n2.Exit\")\n",
        "\n",
        "#function for choice..\n",
        "def password1():\n",
        "  menu()\n",
        "  ch=int(input(\"\\nenter a choice\"))\n",
        "  if ch==1:\n",
        "    strong()\n",
        "  elif ch==2:\n",
        "    print(\"\\nYou came out from the program\\n Thanks for using...\")\n",
        "    exit()\n",
        "  else:\n",
        "    print(\"\\nenter a correct choice\")\n",
        "    password1()\n",
        "\n",
        "#function for creating a strong password..\n",
        "def strong():\n",
        "\n",
        "  n=int(input(\"\\nenter a password length(length should be greater the 6>)\"))\n",
        "  password=\"\"\n",
        "  lower = string.ascii_lowercase\n",
        "  upper = string.ascii_uppercase\n",
        "  num = string.digits\n",
        "  symbols = string.punctuation\n",
        "  words= lower + upper + num + symbols\n",
        "  if n<=6:\n",
        "    print(\"\\nLength is <6 password is not stronger so... \\nPlease enter a password length >6\")\n",
        "    strong()\n",
        "  else:\n",
        "    for i in range(n):\n",
        "      password+=random.choice(words)\n",
        "    print(\"\\nyour password is =\",password)\n",
        "    password1()\n",
        "\n",
        "\n",
        "\n",
        "#function for main..\n",
        "\n",
        "print('\\nHello, Welcome to Password generator!')\n",
        "password1()\n"
      ]
    },
    {
      "cell_type": "code",
      "source": [
        "from google.colab import drive\n",
        "drive.mount('/content/drive')"
      ],
      "metadata": {
        "id": "6BdWl84k19D5"
      },
      "execution_count": null,
      "outputs": []
    },
    {
      "cell_type": "code",
      "source": [],
      "metadata": {
        "id": "b4q0fVI1rDnO"
      },
      "execution_count": null,
      "outputs": []
    }
  ],
  "metadata": {
    "colab": {
      "provenance": [],
      "authorship_tag": "ABX9TyPLuxQpNnh9SjWkRhCKgew3",
      "include_colab_link": true
    },
    "kernelspec": {
      "display_name": "Python 3",
      "name": "python3"
    },
    "language_info": {
      "name": "python"
    }
  },
  "nbformat": 4,
  "nbformat_minor": 0
}